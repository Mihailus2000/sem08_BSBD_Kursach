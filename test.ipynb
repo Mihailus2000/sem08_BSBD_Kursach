{
 "cells": [
  {
   "cell_type": "code",
   "execution_count": 14,
   "metadata": {
    "pycharm": {
     "name": "#%%\n"
    }
   },
   "outputs": [],
   "source": [
    "import pyodbc\n",
    "\n",
    "def connectToDB(driver, ser_name, db_name, username, passwd):\n",
    "    return pyodbc.connect(\"\"\"DRIVER={};\n",
    "                        SERVER={};\n",
    "                        DATABASE={};\n",
    "                        UID={};\n",
    "                        PWD={}\"\"\".format(driver, ser_name, db_name, username, passwd))\n",
    "\n",
    "# driver = \"ODBC Driver 17 for SQL Server\"\n",
    "driver = \"MySQL ODBC 8.0 Unicode Driver\"\n",
    "server_name = \"localhost\"\n",
    "database = \"tickets_on_train\"\n",
    "username = \"root\"\n",
    "passwd = \"Qwerty123!\""
   ]
  },
  {
   "cell_type": "code",
   "execution_count": 15,
   "outputs": [],
   "source": [
    "new_conn = connectToDB(driver,server_name,database,username,passwd)\n",
    "cursor = new_conn.cursor()"
   ],
   "metadata": {
    "collapsed": false,
    "pycharm": {
     "name": "#%%\n"
    }
   }
  },
  {
   "cell_type": "code",
   "execution_count": 17,
   "outputs": [],
   "source": [
    "def add_station(station_name, cursor):\n",
    "    cursor.execute(\"CALL add_station ({})\".format(station_name))\n",
    "\n",
    "def add_route(train_name, train_num, cursor):\n",
    "    cursor.execute(\"CALL add_route ({},{})\".format(train_name, train_num))\n",
    "\n",
    "def add_seatTypes(type, cursor):\n",
    "    cursor.execute(\"CALL add_seatTypes ({})\".format(type))\n",
    "\n",
    "def authentication(login, password, cursor):\n",
    "    is_valid = cursor.execute(\"SELECT authentication({},{})\".format(login,\n",
    "                                                                    password))\n",
    "\n",
    "def registration(cursor):\n",
    "    print(\"please enter the login, press \\'Enter\\' and enter password:\\n\")\n",
    "    login = input()\n",
    "    # check login\n",
    "    cursor.execute(\"\"\"SELECT * FROM customers\n",
    "                    WHERE login={}\"\"\".format(login))\n",
    "    passwd = input()\n"
   ],
   "metadata": {
    "collapsed": false,
    "pycharm": {
     "name": "#%%\n"
    }
   }
  },
  {
   "cell_type": "code",
   "execution_count": null,
   "outputs": [],
   "source": [],
   "metadata": {
    "collapsed": false,
    "pycharm": {
     "name": "#%%\n"
    }
   }
  }
 ],
 "metadata": {
  "kernelspec": {
   "display_name": "Python 3 (ipykernel)",
   "language": "python",
   "name": "python3"
  },
  "language_info": {
   "codemirror_mode": {
    "name": "ipython",
    "version": 3
   },
   "file_extension": ".py",
   "mimetype": "text/x-python",
   "name": "python",
   "nbconvert_exporter": "python",
   "pygments_lexer": "ipython3",
   "version": "3.9.7"
  }
 },
 "nbformat": 4,
 "nbformat_minor": 1
}